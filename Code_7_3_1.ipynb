{
 "cells": [
  {
   "cell_type": "markdown",
   "id": "4e3bcec6-3d75-47d0-ab4d-7324540aa86b",
   "metadata": {},
   "source": [
    "# Визуализация стека вызова при рекурсии"
   ]
  },
  {
   "cell_type": "markdown",
   "id": "1bb446cb-e801-43bb-bd7e-9dcdc2512a01",
   "metadata": {},
   "source": [
    "Для понимания рекурсии очень полезно уметь воспроизводить то, что происходит в стеке вызовов. Мы можем воссоздать его, чтобы понять, как формируются и разрешаются рекурсивные вызовы. Для этого достаточно завести список, куда будем складывать контекст выполнения функции для каждого вызова. "
   ]
  },
  {
   "cell_type": "markdown",
   "id": "6af37f79-fa82-4eaf-a8ee-5e3ec6ada921",
   "metadata": {},
   "source": [
    "Под контекстом выполнения функции будем понимать состояние всех локальных переменных на момент запуска.\n",
    "\n",
    "Давайте рассмотрим на примере функции `sum_to`, которая рекурсивно складывает все числа от 1 до n"
   ]
  },
  {
   "cell_type": "code",
   "execution_count": 1,
   "id": "622c6007-88ee-4425-959d-f940dce8d9a7",
   "metadata": {},
   "outputs": [
    {
     "name": "stdout",
     "output_type": "stream",
     "text": [
      "15\n"
     ]
    }
   ],
   "source": [
    "def sum_to(n):\n",
    "    if n == 1:\n",
    "        return n\n",
    "    return sum_to(n - 1) + n\n",
    "\n",
    "\n",
    "print(sum_to(5))"
   ]
  },
  {
   "cell_type": "markdown",
   "id": "9a2235d0-82d9-40b4-92f5-08b2679b95df",
   "metadata": {},
   "source": [
    "В данной функции у нас используется только одна локальная переменная n для нахождения результата. Следовательно, контекст каждого вызова будет состоять только из одного значения переменной n.\n",
    "\n",
    "Чтобы проследить за тем, как меняется контекст каждого вызова, мы будем складывать состояние переменной `n` в список `call_stack` перед началом действия функции, а после того как логика отработает, будем убирать из списка `call_stack` добавленный контекст."
   ]
  },
  {
   "cell_type": "code",
   "execution_count": 2,
   "id": "f685ef81-0fd1-487d-aea4-7a8d277fe829",
   "metadata": {},
   "outputs": [
    {
     "name": "stdout",
     "output_type": "stream",
     "text": [
      "[{'n': 5}]\n",
      "[{'n': 5}, {'n': 4}]\n",
      "[{'n': 5}, {'n': 4}, {'n': 3}]\n",
      "[{'n': 5}, {'n': 4}, {'n': 3}, {'n': 2}]\n",
      "[{'n': 5}, {'n': 4}, {'n': 3}, {'n': 2}, {'n': 1}]\n",
      "[{'n': 5}, {'n': 4}, {'n': 3}, {'n': 2}]\n",
      "[{'n': 5}, {'n': 4}, {'n': 3}]\n",
      "[{'n': 5}, {'n': 4}]\n",
      "[{'n': 5}]\n",
      "15\n"
     ]
    }
   ],
   "source": [
    "call_stack = []\n",
    "\n",
    "def sum_to(n):\n",
    "    # до начала логики программы\n",
    "    call_stack.append({'n': n})  # добавляем текущий контекст\n",
    "    print(call_stack)  # смотрим, что в call_stack\n",
    "    # отрабатывает сама логика программы\n",
    "    if n == 1:\n",
    "        return n\n",
    "    result = sum_to(n - 1) + n\n",
    "    # после рекурсивного вызова\n",
    "    call_stack.pop()  # очищаем call_stack от текущего контекста\n",
    "    print(call_stack)  # смотрим, что в call_stack\n",
    "    return result\n",
    "\n",
    "\n",
    "print(sum_to(5))"
   ]
  },
  {
   "cell_type": "markdown",
   "id": "5c754b6e-ad1c-4488-b9a5-5b61d7a9e6c6",
   "metadata": {},
   "source": [
    "Обратите внимание, что вместо строчки \n",
    "```python\n",
    "return sum_to(n - 1) + n\n",
    "```\n",
    "я использовал сохранение результата в промежуточную переменную result \n",
    "```python\n",
    "result = sum_to(n - 1) + n\n",
    "```\n",
    "Это делается, чтобы избежать принудительного выхода из функции, который обеспечивает оператор return. Если этого не сделать, то у нас не будут отрабатывать строки кода"
   ]
  },
  {
   "cell_type": "markdown",
   "id": "fc00c367-0ae0-416b-a1a4-394e44507ac7",
   "metadata": {},
   "source": [
    "```python\n",
    "call_stack.pop()  # очищаем call_stack от текущего контекста\n",
    "print(call_stack)  # смотрим, что в call_stack\n",
    "```"
   ]
  },
  {
   "cell_type": "markdown",
   "id": "94a5e2b4-f0fd-42c1-a3d9-040cd79b66e4",
   "metadata": {},
   "source": [
    "Если запустите программу выше, вы увидите следующий вывод \n",
    "```bash\n",
    "[{'n': 5}]\n",
    "[{'n': 5}, {'n': 4}]\n",
    "[{'n': 5}, {'n': 4}, {'n': 3}]\n",
    "[{'n': 5}, {'n': 4}, {'n': 3}, {'n': 2}]\n",
    "[{'n': 5}, {'n': 4}, {'n': 3}, {'n': 2}, {'n': 1}]\n",
    "[{'n': 5}, {'n': 4}, {'n': 3}, {'n': 2}]\n",
    "[{'n': 5}, {'n': 4}, {'n': 3}]\n",
    "[{'n': 5}, {'n': 4}]\n",
    "[{'n': 5}]\n",
    "15\n",
    "```\n",
    "Все строки, кроме последней, показывают состояние переменной `call_stack`. Слева находится значение переменной n самого первого вызова в стеке, справа - значения переменной n новых вызовов. Видно, что пока мы не достигли базового случая `(n = 1)`, размер переменной `call_stack` увеличивается. После достижения базового случая, рекурсивные вызовы завершаются, функции начинают одна за одной завершаться, стек уменьшается.\n",
    "\n",
    " \n",
    "\n",
    "Фокус с просмотром состояния рекурсивного вызова, так называемым контекстом выполнения функции, можно проделать с любой рекурсивной функцией. Не важно, сколько там будет параметров и локальных переменных, все их состояния можно сохранить в список. Вот, например, реализация функции `get_combin`, которая находит число сочетаний"
   ]
  },
  {
   "cell_type": "code",
   "execution_count": 3,
   "id": "ca96f8da-62fe-4750-829c-baf03723c8cc",
   "metadata": {},
   "outputs": [],
   "source": [
    "def get_combin(n: int, k: int) -> int:\n",
    "    if k == 0 or k == n:\n",
    "        return 1\n",
    "    return get_combin(n - 1, k) + get_combin(n - 1, k - 1)"
   ]
  },
  {
   "cell_type": "markdown",
   "id": "af548047-cb6e-4ec5-aea7-429bcc8c21d1",
   "metadata": {},
   "source": [
    "В ней используются два параметра `n` и `k`. Давайте также отследим как меняются значения этих параметров при рекурсивном вызове. Для этого мы сперва сохраним результат рекурсивного вызова в промежуточную переменную `total`"
   ]
  },
  {
   "cell_type": "code",
   "execution_count": 4,
   "id": "d2e76a17-ef60-4c08-a6b3-d3b6c1c57868",
   "metadata": {},
   "outputs": [],
   "source": [
    "def get_combin(n: int, k: int) -> int:\n",
    "    if k == 0 or k == n:\n",
    "        return 1\n",
    "    total = get_combin(n - 1, k) + get_combin(n - 1, k - 1)\n",
    "    return total"
   ]
  },
  {
   "cell_type": "markdown",
   "id": "e5927f03-faf4-4d5b-bf72-f4a734d21956",
   "metadata": {},
   "source": [
    "Затем в самом начале функции добавим добавление всех параметров в call_stack"
   ]
  },
  {
   "cell_type": "markdown",
   "id": "0916a9f7-8541-4cec-8cdc-00eb8262ca8c",
   "metadata": {},
   "source": [
    "```python\n",
    "call_stack.append({'n': n, 'k': k})\n",
    "print(call_stack)\n",
    "```"
   ]
  },
  {
   "cell_type": "markdown",
   "id": "49d80fe3-ac7b-4b34-9dda-3cb30159b20a",
   "metadata": {},
   "source": [
    "А перед возвратом значения из рекурсивного вызова очистим стек и вновь на него взглянем при помощи строк"
   ]
  },
  {
   "cell_type": "markdown",
   "id": "8252f2a7-2990-49a6-8cbd-3a4bcba5a310",
   "metadata": {},
   "source": [
    "```python\n",
    "call_stack.pop()\n",
    "print(call_stack)\n",
    "```"
   ]
  },
  {
   "cell_type": "markdown",
   "id": "a6c4ae72-c362-4072-b89b-5bf2fe865269",
   "metadata": {},
   "source": [
    "Полная реализация будет выглядеть следующим образом"
   ]
  },
  {
   "cell_type": "code",
   "execution_count": 5,
   "id": "f8595c20-3c92-4d61-a4c8-9c15174958e8",
   "metadata": {},
   "outputs": [],
   "source": [
    "call_stack = []\n",
    "\n",
    "def get_combin(n: int, k: int) -> int:\n",
    "    call_stack.append({'n': n, 'k': k})\n",
    "    print(call_stack)\n",
    "    if k == 0 or k == n:\n",
    "        return 1\n",
    "    total = get_combin(n - 1, k) + get_combin(n - 1, k - 1)\n",
    "    call_stack.pop()\n",
    "    print(call_stack)\n",
    "    return total"
   ]
  },
  {
   "cell_type": "markdown",
   "id": "7fe477f1-1f8f-49e9-992c-53c9a01f09a2",
   "metadata": {},
   "source": [
    "Попробуйте вызвать get_combin(4, 2) и понаблюдайте за изменением переменной call_stack"
   ]
  },
  {
   "cell_type": "code",
   "execution_count": 6,
   "id": "2283e140-385b-40ca-b9ea-39b334e47c47",
   "metadata": {},
   "outputs": [
    {
     "name": "stdout",
     "output_type": "stream",
     "text": [
      "[{'n': 2, 'k': 2}]\n"
     ]
    },
    {
     "data": {
      "text/plain": [
       "1"
      ]
     },
     "execution_count": 6,
     "metadata": {},
     "output_type": "execute_result"
    }
   ],
   "source": [
    "get_combin(2, 2)"
   ]
  }
 ],
 "metadata": {
  "kernelspec": {
   "display_name": "Python 3 (ipykernel)",
   "language": "python",
   "name": "python3"
  },
  "language_info": {
   "codemirror_mode": {
    "name": "ipython",
    "version": 3
   },
   "file_extension": ".py",
   "mimetype": "text/x-python",
   "name": "python",
   "nbconvert_exporter": "python",
   "pygments_lexer": "ipython3",
   "version": "3.12.4"
  }
 },
 "nbformat": 4,
 "nbformat_minor": 5
}
